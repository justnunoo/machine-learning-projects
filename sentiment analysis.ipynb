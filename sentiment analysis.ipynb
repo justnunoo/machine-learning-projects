{
 "cells": [
  {
   "cell_type": "code",
   "execution_count": 11,
   "id": "61850cf8",
   "metadata": {},
   "outputs": [],
   "source": [
    "import tensorflow as tf\n",
    "from tensorflow import keras\n",
    "import pandas as pd\n",
    "from matplotlib import pyplot as plt\n",
    "import numpy as np\n",
    "import os"
   ]
  },
  {
   "cell_type": "code",
   "execution_count": 21,
   "id": "190d763f",
   "metadata": {},
   "outputs": [
    {
     "data": {
      "text/plain": [
       "<_TensorSliceDataset element_spec=TensorSpec(shape=(), dtype=tf.string, name=None)>"
      ]
     },
     "execution_count": 21,
     "metadata": {},
     "output_type": "execute_result"
    }
   ],
   "source": [
    "reviews_ds = tf.data.Dataset.list_files('./datasets/reviews/*/*', shuffle=False)\n",
    "reviews_ds"
   ]
  },
  {
   "cell_type": "code",
   "execution_count": 22,
   "id": "87446ee5",
   "metadata": {},
   "outputs": [
    {
     "name": "stdout",
     "output_type": "stream",
     "text": [
      "b'.\\\\datasets\\\\reviews\\\\negative\\\\neg_1.txt'\n",
      "b'.\\\\datasets\\\\reviews\\\\negative\\\\neg_2.txt'\n",
      "b'.\\\\datasets\\\\reviews\\\\negative\\\\neg_3.txt'\n",
      "b'.\\\\datasets\\\\reviews\\\\positive\\\\pos_1.txt'\n",
      "b'.\\\\datasets\\\\reviews\\\\positive\\\\pos_2.txt'\n",
      "b'.\\\\datasets\\\\reviews\\\\positive\\\\pos_3.txt'\n"
     ]
    }
   ],
   "source": [
    "for files in reviews_ds:\n",
    "    print(files.numpy())"
   ]
  },
  {
   "cell_type": "code",
   "execution_count": 25,
   "id": "f307bf1a",
   "metadata": {},
   "outputs": [],
   "source": [
    "def extract_review_and_label(file_path):\n",
    "    return tf.io.read_file(file_path), tf.strings.split(file_path, os.path.sep)[-2]"
   ]
  },
  {
   "cell_type": "code",
   "execution_count": 32,
   "id": "feee72e8",
   "metadata": {},
   "outputs": [
    {
     "name": "stdout",
     "output_type": "stream",
     "text": [
      "Review:  b'{\"payload\":{\"allShortcutsEnabled\":false,\"fileTree\"'\n",
      "Label:  b'negative'\n",
      "Review:  b'{\"payload\":{\"allShortcutsEnabled\":false,\"fileTree\"'\n",
      "Label:  b'negative'\n",
      "Review:  b'{\"payload\":{\"allShortcutsEnabled\":false,\"fileTree\"'\n",
      "Label:  b'negative'\n",
      "Review:  b'{\"payload\":{\"allShortcutsEnabled\":false,\"fileTree\"'\n",
      "Label:  b'positive'\n",
      "Review:  b'{\"payload\":{\"allShortcutsEnabled\":false,\"fileTree\"'\n",
      "Label:  b'positive'\n",
      "Review:  b'{\"payload\":{\"allShortcutsEnabled\":false,\"fileTree\"'\n",
      "Label:  b'positive'\n"
     ]
    }
   ],
   "source": [
    "reviews_ds_1 = reviews_ds.map(extract_review_and_label)\n",
    "for review, label in reviews_ds_1:\n",
    "    print(\"Review: \",review.numpy()[:50])\n",
    "    print(\"Label: \",label.numpy())"
   ]
  },
  {
   "cell_type": "code",
   "execution_count": 30,
   "id": "48fc1e2a",
   "metadata": {},
   "outputs": [],
   "source": [
    "reviews_ds_2 = reviews_ds_1.filter(lambda review, label: review !=\"\")"
   ]
  },
  {
   "cell_type": "code",
   "execution_count": null,
   "id": "5d8f4dcd",
   "metadata": {},
   "outputs": [],
   "source": [
    "for review, label in reviews_ds_1.take(1):\n",
    "    print(\"Review: \",review.numpy()[:50])\n",
    "    print(\"Label: \",label.numpy())"
   ]
  }
 ],
 "metadata": {
  "kernelspec": {
   "display_name": "Python 3 (ipykernel)",
   "language": "python",
   "name": "python3"
  },
  "language_info": {
   "codemirror_mode": {
    "name": "ipython",
    "version": 3
   },
   "file_extension": ".py",
   "mimetype": "text/x-python",
   "name": "python",
   "nbconvert_exporter": "python",
   "pygments_lexer": "ipython3",
   "version": "3.10.9"
  }
 },
 "nbformat": 4,
 "nbformat_minor": 5
}
